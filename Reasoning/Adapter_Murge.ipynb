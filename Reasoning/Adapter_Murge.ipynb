{
 "cells": [
  {
   "cell_type": "code",
   "execution_count": 1,
   "metadata": {},
   "outputs": [],
   "source": [
    "import torch\n",
    "from transformers import BitsAndBytesConfig\n",
    "from transformers import AutoProcessor, Gemma3ForConditionalGeneration\n",
    "from peft import PeftModel\n",
    "\n",
    "# 4-bit 양자화 설정\n",
    "bnb_config = BitsAndBytesConfig(\n",
    "    load_in_4bit=True,\n",
    "    bnb_4bit_quant_type=\"nf4\",\n",
    "    bnb_4bit_compute_dtype=torch.bfloat16,\n",
    "    bnb_4bit_use_double_quant=True,\n",
    ")\n",
    "\n",
    "# 1. 기본 모델과 LoRA 어댑터 불러오기\n",
    "adapter_path = \"./outputs/Yeongi/gemma-3-4b-it-bnb-4bit-lora/checkpoint-500\"  # LoRA 어댑터가 저장된 경로\n",
    "base_model_name = \"Yeongi/gemma-3-4b-it-bnb-4bit-lora\"\n",
    "merged_model_name = \"Yeongi/gemma-3-4b-it-4bit-SFT-GRPO-500\"  # Hub에 업로드할 모델 이름\n",
    "\n",
    "base_model = Gemma3ForConditionalGeneration.from_pretrained(\n",
    "    base_model_name,\n",
    "    torch_dtype=torch.bfloat16,\n",
    "    # quantization_config=bnb_config,\n",
    ")\n",
    "\n",
    "processor = AutoProcessor.from_pretrained(base_model_name, use_fast=True)\n",
    "\n",
    "model = PeftModel.from_pretrained(\n",
    "    base_model,\n",
    "    adapter_path,\n",
    ")"
   ]
  },
  {
   "cell_type": "code",
   "execution_count": 2,
   "metadata": {},
   "outputs": [],
   "source": [
    "# from unsloth import FastModel\n",
    "\n",
    "# # 1. 기본 모델과 LoRA 어댑터 불러오기\n",
    "# base_model_name = \"google/gemma-3-12b-it\"\n",
    "# adapter_path = \"./outputs/checkpoint-228\"  # LoRA 어댑터가 저장된 경로\n",
    "# merged_model_name = \"Yeongi/gemma-3-12b-it-lora-sft-instruct-bespoke-stratos-3.6ak\"  # Hub에 업로드할 모델 이름\n",
    "\n",
    "# model, tokenizer = FastModel.from_pretrained(adapter_path)"
   ]
  },
  {
   "cell_type": "code",
   "execution_count": 3,
   "metadata": {},
   "outputs": [
    {
     "name": "stderr",
     "output_type": "stream",
     "text": [
      "/home/hiyo2044/.pyenv/versions/unsloth/lib/python3.11/site-packages/peft/tuners/lora/bnb.py:351: UserWarning: Merge lora module to 4-bit linear may get different generations due to rounding errors.\n",
      "  warnings.warn(\n"
     ]
    }
   ],
   "source": [
    "# 2. LoRA 어댑터를 기본 모델과 병합\n",
    "model = model.merge_and_unload()"
   ]
  },
  {
   "cell_type": "code",
   "execution_count": 4,
   "metadata": {},
   "outputs": [],
   "source": [
    "# # 3. 병합된 모델 저장 (선택사항)\n",
    "# save_path = \"./merged_model\"\n",
    "# model.save_pretrained(save_path)\n",
    "# tokenizer.save_pretrained(save_path)"
   ]
  },
  {
   "cell_type": "code",
   "execution_count": 5,
   "metadata": {},
   "outputs": [
    {
     "data": {
      "application/vnd.jupyter.widget-view+json": {
       "model_id": "de95ee1fcf6c499c82b37ead576759ff",
       "version_major": 2,
       "version_minor": 0
      },
      "text/plain": [
       "model.safetensors:   0%|          | 0.00/3.23G [00:00<?, ?B/s]"
      ]
     },
     "metadata": {},
     "output_type": "display_data"
    },
    {
     "data": {
      "application/vnd.jupyter.widget-view+json": {
       "model_id": "4a00361194eb4714849dcc2816a2aa1a",
       "version_major": 2,
       "version_minor": 0
      },
      "text/plain": [
       "README.md:   0%|          | 0.00/5.17k [00:00<?, ?B/s]"
      ]
     },
     "metadata": {},
     "output_type": "display_data"
    },
    {
     "data": {
      "application/vnd.jupyter.widget-view+json": {
       "model_id": "4815879dffd04af89f32eb66b17313b8",
       "version_major": 2,
       "version_minor": 0
      },
      "text/plain": [
       "tokenizer.model:   0%|          | 0.00/4.69M [00:00<?, ?B/s]"
      ]
     },
     "metadata": {},
     "output_type": "display_data"
    },
    {
     "data": {
      "application/vnd.jupyter.widget-view+json": {
       "model_id": "3dca2fae995847299b59d47ad9399358",
       "version_major": 2,
       "version_minor": 0
      },
      "text/plain": [
       "Upload 2 LFS files:   0%|          | 0/2 [00:00<?, ?it/s]"
      ]
     },
     "metadata": {},
     "output_type": "display_data"
    },
    {
     "data": {
      "application/vnd.jupyter.widget-view+json": {
       "model_id": "fe44f63bd6804296b7f4e27bfb75b1e1",
       "version_major": 2,
       "version_minor": 0
      },
      "text/plain": [
       "tokenizer.json:   0%|          | 0.00/33.4M [00:00<?, ?B/s]"
      ]
     },
     "metadata": {},
     "output_type": "display_data"
    },
    {
     "data": {
      "text/plain": [
       "CommitInfo(commit_url='https://huggingface.co/Yeongi/gemma-3-4b-it-4bit-SFT-GRPO-500/commit/e7053bc57acf82b61f778ad0790fd61204c44638', commit_message='Upload processor', commit_description='', oid='e7053bc57acf82b61f778ad0790fd61204c44638', pr_url=None, repo_url=RepoUrl('https://huggingface.co/Yeongi/gemma-3-4b-it-4bit-SFT-GRPO-500', endpoint='https://huggingface.co', repo_type='model', repo_id='Yeongi/gemma-3-4b-it-4bit-SFT-GRPO-500'), pr_revision=None, pr_num=None)"
      ]
     },
     "execution_count": 5,
     "metadata": {},
     "output_type": "execute_result"
    }
   ],
   "source": [
    "# 4. Hugging Face Hub에 업로드\n",
    "# 먼저 huggingface-cli login으로 로그인하거나 아래에 token을 입력합니다\n",
    "from huggingface_hub import HfApi\n",
    "\n",
    "api = HfApi()\n",
    "\n",
    "# 또는 환경변수 HUGGINGFACE_TOKEN을 설정할 수 있습니다\n",
    "# import os\n",
    "# api.token = os.getenv(\"HUGGINGFACE_TOKEN\")\n",
    "\n",
    "# 모델 업로드\n",
    "model.push_to_hub(merged_model_name)\n",
    "# tokenizer.push_to_hub(merged_model_name)\n",
    "processor.push_to_hub(merged_model_name)"
   ]
  }
 ],
 "metadata": {
  "kernelspec": {
   "display_name": "unsloth",
   "language": "python",
   "name": "python3"
  },
  "language_info": {
   "codemirror_mode": {
    "name": "ipython",
    "version": 3
   },
   "file_extension": ".py",
   "mimetype": "text/x-python",
   "name": "python",
   "nbconvert_exporter": "python",
   "pygments_lexer": "ipython3",
   "version": "3.11.11"
  }
 },
 "nbformat": 4,
 "nbformat_minor": 2
}
