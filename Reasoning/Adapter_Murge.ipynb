{
 "cells": [
  {
   "cell_type": "code",
   "execution_count": 1,
   "metadata": {},
   "outputs": [
    {
     "data": {
      "application/vnd.jupyter.widget-view+json": {
       "model_id": "ce2e535a857448dab2b823957c0d793d",
       "version_major": 2,
       "version_minor": 0
      },
      "text/plain": [
       "Loading checkpoint shards:   0%|          | 0/5 [00:00<?, ?it/s]"
      ]
     },
     "metadata": {},
     "output_type": "display_data"
    }
   ],
   "source": [
    "import torch\n",
    "from transformers import BitsAndBytesConfig\n",
    "from transformers import AutoProcessor, Gemma3ForConditionalGeneration\n",
    "from trl import SFTTrainer, SFTConfig\n",
    "from peft import PeftModel, PeftConfig\n",
    "\n",
    "# 4-bit 양자화 설정\n",
    "bnb_config = BitsAndBytesConfig(\n",
    "    load_in_4bit=True,\n",
    "    bnb_4bit_quant_type=\"nf4\",\n",
    "    bnb_4bit_compute_dtype=torch.bfloat16,\n",
    "    bnb_4bit_use_double_quant=True,\n",
    ")\n",
    "\n",
    "# 1. 기본 모델과 LoRA 어댑터 불러오기\n",
    "adapter_path = \"./outputs/checkpoint-228\"  # LoRA 어댑터가 저장된 경로\n",
    "merged_model_name = (\n",
    "    \"Yeongi/gemma-3-12b-it-bnb-4bit-lora-sft-instruct\"  # Hub에 업로드할 모델 이름\n",
    ")\n",
    "\n",
    "base_model = Gemma3ForConditionalGeneration.from_pretrained(\n",
    "    \"google/gemma-3-12b-it\",\n",
    "    torch_dtype=torch.bfloat16,\n",
    "    attn_implementation=\"eager\",\n",
    "    quantization_config=bnb_config,\n",
    "    device_map=\"auto\",\n",
    ")\n",
    "\n",
    "processor = AutoProcessor.from_pretrained(\"google/gemma-3-12b-it\", use_fast=True)\n",
    "\n",
    "model = PeftModel.from_pretrained(\n",
    "    base_model, adapter_path, is_trainable=False  # 병합 시 학습 모드 비활성화\n",
    ")"
   ]
  },
  {
   "cell_type": "code",
   "execution_count": 2,
   "metadata": {},
   "outputs": [],
   "source": [
    "# from unsloth import FastModel\n",
    "\n",
    "# # 1. 기본 모델과 LoRA 어댑터 불러오기\n",
    "# base_model_name = \"google/gemma-3-12b-it\"\n",
    "# adapter_path = \"./outputs/checkpoint-228\"  # LoRA 어댑터가 저장된 경로\n",
    "# merged_model_name = \"Yeongi/gemma-3-12b-it-lora-sft-instruct-bespoke-stratos-3.6ak\"  # Hub에 업로드할 모델 이름\n",
    "\n",
    "# model, tokenizer = FastModel.from_pretrained(adapter_path)"
   ]
  },
  {
   "cell_type": "code",
   "execution_count": 3,
   "metadata": {},
   "outputs": [
    {
     "name": "stderr",
     "output_type": "stream",
     "text": [
      "/home/hiyo2044/.pyenv/versions/unsloth/lib/python3.11/site-packages/peft/tuners/lora/bnb.py:351: UserWarning: Merge lora module to 4-bit linear may get different generations due to rounding errors.\n",
      "  warnings.warn(\n"
     ]
    }
   ],
   "source": [
    "# 2. LoRA 어댑터를 기본 모델과 병합\n",
    "model = model.merge_and_unload()"
   ]
  },
  {
   "cell_type": "code",
   "execution_count": 4,
   "metadata": {},
   "outputs": [],
   "source": [
    "# # 3. 병합된 모델 저장 (선택사항)\n",
    "# save_path = \"./merged_model\"\n",
    "# model.save_pretrained(save_path)\n",
    "# tokenizer.save_pretrained(save_path)"
   ]
  },
  {
   "cell_type": "code",
   "execution_count": 5,
   "metadata": {},
   "outputs": [
    {
     "data": {
      "application/vnd.jupyter.widget-view+json": {
       "model_id": "93420c4e370a401dba65a8a16043a971",
       "version_major": 2,
       "version_minor": 0
      },
      "text/plain": [
       "model-00002-of-00002.safetensors:   0%|          | 0.00/2.81G [00:00<?, ?B/s]"
      ]
     },
     "metadata": {},
     "output_type": "display_data"
    },
    {
     "data": {
      "application/vnd.jupyter.widget-view+json": {
       "model_id": "f301d04f05214556bc5b462564857269",
       "version_major": 2,
       "version_minor": 0
      },
      "text/plain": [
       "Upload 2 LFS files:   0%|          | 0/2 [00:00<?, ?it/s]"
      ]
     },
     "metadata": {},
     "output_type": "display_data"
    },
    {
     "data": {
      "application/vnd.jupyter.widget-view+json": {
       "model_id": "d3323ddd27f64ec980ef65d7733aeaf9",
       "version_major": 2,
       "version_minor": 0
      },
      "text/plain": [
       "model-00001-of-00002.safetensors:   0%|          | 0.00/4.99G [00:00<?, ?B/s]"
      ]
     },
     "metadata": {},
     "output_type": "display_data"
    },
    {
     "data": {
      "application/vnd.jupyter.widget-view+json": {
       "model_id": "2b4b59ea27a74796866f06867413c406",
       "version_major": 2,
       "version_minor": 0
      },
      "text/plain": [
       "README.md:   0%|          | 0.00/5.17k [00:00<?, ?B/s]"
      ]
     },
     "metadata": {},
     "output_type": "display_data"
    },
    {
     "data": {
      "application/vnd.jupyter.widget-view+json": {
       "model_id": "0ed7bbdf578e488fa104bdecca173175",
       "version_major": 2,
       "version_minor": 0
      },
      "text/plain": [
       "Upload 2 LFS files:   0%|          | 0/2 [00:00<?, ?it/s]"
      ]
     },
     "metadata": {},
     "output_type": "display_data"
    },
    {
     "data": {
      "application/vnd.jupyter.widget-view+json": {
       "model_id": "52ca8ca4f18b46ce8bc267283656e032",
       "version_major": 2,
       "version_minor": 0
      },
      "text/plain": [
       "tokenizer.model:   0%|          | 0.00/4.69M [00:00<?, ?B/s]"
      ]
     },
     "metadata": {},
     "output_type": "display_data"
    },
    {
     "data": {
      "application/vnd.jupyter.widget-view+json": {
       "model_id": "9d41d065382f4da3839e9994bd6a08c8",
       "version_major": 2,
       "version_minor": 0
      },
      "text/plain": [
       "tokenizer.json:   0%|          | 0.00/33.4M [00:00<?, ?B/s]"
      ]
     },
     "metadata": {},
     "output_type": "display_data"
    },
    {
     "data": {
      "text/plain": [
       "CommitInfo(commit_url='https://huggingface.co/Yeongi/gemma-3-12b-it-bnb-4bit-lora-sft-instruct/commit/9953e82da773cb3862fe5b705e1732f068d9b64f', commit_message='Upload processor', commit_description='', oid='9953e82da773cb3862fe5b705e1732f068d9b64f', pr_url=None, repo_url=RepoUrl('https://huggingface.co/Yeongi/gemma-3-12b-it-bnb-4bit-lora-sft-instruct', endpoint='https://huggingface.co', repo_type='model', repo_id='Yeongi/gemma-3-12b-it-bnb-4bit-lora-sft-instruct'), pr_revision=None, pr_num=None)"
      ]
     },
     "execution_count": 5,
     "metadata": {},
     "output_type": "execute_result"
    }
   ],
   "source": [
    "# 4. Hugging Face Hub에 업로드\n",
    "# 먼저 huggingface-cli login으로 로그인하거나 아래에 token을 입력합니다\n",
    "from huggingface_hub import HfApi\n",
    "\n",
    "api = HfApi()\n",
    "\n",
    "# 또는 환경변수 HUGGINGFACE_TOKEN을 설정할 수 있습니다\n",
    "# import os\n",
    "# api.token = os.getenv(\"HUGGINGFACE_TOKEN\")\n",
    "\n",
    "# 모델 업로드\n",
    "model.push_to_hub(merged_model_name)\n",
    "# tokenizer.push_to_hub(merged_model_name)\n",
    "processor.push_to_hub(merged_model_name)"
   ]
  }
 ],
 "metadata": {
  "kernelspec": {
   "display_name": "unsloth",
   "language": "python",
   "name": "python3"
  },
  "language_info": {
   "codemirror_mode": {
    "name": "ipython",
    "version": 3
   },
   "file_extension": ".py",
   "mimetype": "text/x-python",
   "name": "python",
   "nbconvert_exporter": "python",
   "pygments_lexer": "ipython3",
   "version": "3.11.11"
  }
 },
 "nbformat": 4,
 "nbformat_minor": 2
}
