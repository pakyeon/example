{
 "cells": [
  {
   "cell_type": "code",
   "execution_count": null,
   "metadata": {},
   "outputs": [],
   "source": [
    "from datasets import load_dataset\n",
    "from transformers import AutoProcessor"
   ]
  },
  {
   "cell_type": "code",
   "execution_count": 2,
   "metadata": {},
   "outputs": [],
   "source": [
    "model_name = \"google/gemma-3-12b-it\"\n",
    "processor = AutoProcessor.from_pretrained(model_name, use_fast=True)\n",
    "tokenizer = processor.tokenizer"
   ]
  },
  {
   "cell_type": "code",
   "execution_count": 3,
   "metadata": {},
   "outputs": [],
   "source": [
    "dataset = load_dataset(\"HuggingFaceH4/Bespoke-Stratos-17k\", split=\"train\")"
   ]
  },
  {
   "cell_type": "code",
   "execution_count": 4,
   "metadata": {},
   "outputs": [],
   "source": [
    "def format_restruction(dataset):\n",
    "    system = dataset[\"system\"]\n",
    "    question = dataset[\"conversations\"][0][\"value\"]\n",
    "    response = dataset[\"conversations\"][1][\"value\"]\n",
    "\n",
    "    return {\"system\": system, \"question\": question, \"response\": response}"
   ]
  },
  {
   "cell_type": "code",
   "execution_count": 5,
   "metadata": {},
   "outputs": [],
   "source": [
    "restructured_dataset = dataset.map(\n",
    "    format_restruction,\n",
    "    remove_columns=dataset.column_names,  # 기존 컬럼 제거\n",
    ")"
   ]
  },
  {
   "cell_type": "code",
   "execution_count": 10,
   "metadata": {},
   "outputs": [],
   "source": [
    "def filter_long_tokens(dataset):\n",
    "    return (\n",
    "        len(tokenizer.tokenize(dataset[\"system\"]))\n",
    "        + len(tokenizer.tokenize(dataset[\"question\"]))\n",
    "        + len(tokenizer.tokenize(dataset[\"response\"]))\n",
    "        <= 2044\n",
    "    )"
   ]
  },
  {
   "cell_type": "code",
   "execution_count": 11,
   "metadata": {},
   "outputs": [
    {
     "data": {
      "application/vnd.jupyter.widget-view+json": {
       "model_id": "07246a5db1ef437181ed8e425fa6891c",
       "version_major": 2,
       "version_minor": 0
      },
      "text/plain": [
       "Filtering dataset (num_proc=4):   0%|          | 0/16610 [00:00<?, ? examples/s]"
      ]
     },
     "metadata": {},
     "output_type": "display_data"
    }
   ],
   "source": [
    "filtered_dataset = restructured_dataset.filter(\n",
    "    filter_long_tokens, num_proc=6, desc=\"Filtering dataset\"\n",
    ")"
   ]
  },
  {
   "cell_type": "code",
   "execution_count": 13,
   "metadata": {},
   "outputs": [
    {
     "data": {
      "application/vnd.jupyter.widget-view+json": {
       "model_id": "f9092c0b9df446da9c951a33932260d4",
       "version_major": 2,
       "version_minor": 0
      },
      "text/plain": [
       "Uploading the dataset shards:   0%|          | 0/1 [00:00<?, ?it/s]"
      ]
     },
     "metadata": {},
     "output_type": "display_data"
    },
    {
     "data": {
      "application/vnd.jupyter.widget-view+json": {
       "model_id": "0191f88a782f49a7a33b5a9ba0c2231b",
       "version_major": 2,
       "version_minor": 0
      },
      "text/plain": [
       "Creating parquet from Arrow format:   0%|          | 0/4 [00:00<?, ?ba/s]"
      ]
     },
     "metadata": {},
     "output_type": "display_data"
    },
    {
     "data": {
      "text/plain": [
       "CommitInfo(commit_url='https://huggingface.co/datasets/Yeongi/Bespoke-Stratos-3.65k/commit/e2cd1425c93c5880f9031dd8b0467888c0aca056', commit_message='Upload filtered dataset with max_seq_length <= 2044', commit_description='', oid='e2cd1425c93c5880f9031dd8b0467888c0aca056', pr_url=None, repo_url=RepoUrl('https://huggingface.co/datasets/Yeongi/Bespoke-Stratos-3.65k', endpoint='https://huggingface.co', repo_type='dataset', repo_id='Yeongi/Bespoke-Stratos-3.65k'), pr_revision=None, pr_num=None)"
      ]
     },
     "execution_count": 13,
     "metadata": {},
     "output_type": "execute_result"
    }
   ],
   "source": [
    "filtered_dataset.push_to_hub(\n",
    "    \"Yeongi/Bespoke-Stratos-3.65k\",\n",
    "    private=False,  # 공개 여부\n",
    "    # token=\"hf..\",\n",
    "    commit_message=\"Upload filtered dataset with max_seq_length <= 2044\",\n",
    ")"
   ]
  }
 ],
 "metadata": {
  "kernelspec": {
   "display_name": "unsloth",
   "language": "python",
   "name": "python3"
  },
  "language_info": {
   "codemirror_mode": {
    "name": "ipython",
    "version": 3
   },
   "file_extension": ".py",
   "mimetype": "text/x-python",
   "name": "python",
   "nbconvert_exporter": "python",
   "pygments_lexer": "ipython3",
   "version": "3.11.11"
  }
 },
 "nbformat": 4,
 "nbformat_minor": 2
}
