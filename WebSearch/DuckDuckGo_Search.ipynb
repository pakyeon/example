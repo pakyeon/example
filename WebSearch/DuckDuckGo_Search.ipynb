{
 "cells": [
  {
   "cell_type": "markdown",
   "metadata": {},
   "source": [
    "### DuckDuckGo Search API를 사용하여 정보를 가져오는 방법"
   ]
  },
  {
   "cell_type": "code",
   "execution_count": null,
   "metadata": {},
   "outputs": [],
   "source": [
    "! pip install -U duckduckgo_search"
   ]
  },
  {
   "cell_type": "code",
   "execution_count": 15,
   "metadata": {},
   "outputs": [],
   "source": [
    "from duckduckgo_search import DDGS"
   ]
  },
  {
   "cell_type": "markdown",
   "metadata": {},
   "source": [
    "#### Text Search"
   ]
  },
  {
   "cell_type": "code",
   "execution_count": 24,
   "metadata": {},
   "outputs": [],
   "source": [
    "text_search = DDGS().text('live free or die', region='wt-wt', safesearch='off', timelimit='y', max_results=5)"
   ]
  },
  {
   "cell_type": "code",
   "execution_count": 25,
   "metadata": {},
   "outputs": [
    {
     "data": {
      "text/plain": [
       "[{'title': \"'Live Free or Die': The History of New Hampshire's State Motto - 97.5 WOKQ\",\n",
       "  'href': 'https://wokq.com/new-hampshire-state-motto-history/',\n",
       "  'body': \"Live Free Or Die; Death Is Not The Worst of Evils. Although Stark's words were written in the early 19th century, it wasn't until 1945 when the phrase became New Hampshire's official state motto, according to NewEngland.com. And they continue to withstand the test of time to this day.\"},\n",
       " {'title': 'Live Free or Die: The Contested History of the Words on Your License Plate',\n",
       "  'href': 'https://madisonlibrary-nh.org/WP/2024/09/19/live-free-or-die-the-contested-history-of-the-words-on-your-license-plate/',\n",
       "  'body': 'The Friends of Madison will be hosting a New Hampshire Humanities program, Live Free or Die, presented by Dan Billin, on Thursday, September 19 at 7pm in the Chick Room. In 1969, when New Hampshire officials decided to put the state\\'s motto - \"live free or die\" - on its license plates, many citizens viewed the act as an endorsement of the deeply unpopular war being waged in Vietnam ...'},\n",
       " {'title': \"Live Free or Die, an origin story. John Stark's New ... - YouTube\",\n",
       "  'href': 'https://www.youtube.com/watch?v=tYhIlIXXr_w',\n",
       "  'body': '\"Live Free or Die\", has become synonymous with New Hampshire liberty, and the envy of other states but what does it mean? Where did it come from? Who said it...'},\n",
       " {'title': '2000 Quarter Coin Value (Errors List, \"D\", \"S\" & \"P\" Mint Mark Worth)',\n",
       "  'href': 'https://www.coinvaluechecker.com/2000-quarter-value-p-d-s-mint-mark-rare-error-list/',\n",
       "  'body': 'The New Hampshire design shows the Old Man of the Mountain, a rocky crag with the appearance of a face. A caption identifying the image is super-imposed on it. To its left is the state motto, \"LIVE FREE OR DIE\". The final quarter issued in 2000 was for Virginia. Its design features three ships, the Godspeed, the Susan Constant, and the ...'},\n",
       " {'title': \"'Live Free or Die Hard' Is Actually Awesome - Collider\",\n",
       "  'href': 'https://collider.com/live-free-or-die-hard-extended-cut/',\n",
       "  'body': 'Although it was evident that 20th Century Fox was trying to ensure that the film could appeal to a younger generation of viewers, the extended, R-rated cut of Live Free or Die Hard is a terrific ...'}]"
      ]
     },
     "execution_count": 25,
     "metadata": {},
     "output_type": "execute_result"
    }
   ],
   "source": [
    "text_search"
   ]
  },
  {
   "cell_type": "markdown",
   "metadata": {},
   "source": [
    "#### PDF Search"
   ]
  },
  {
   "cell_type": "code",
   "execution_count": 26,
   "metadata": {},
   "outputs": [],
   "source": [
    "pdf_search = DDGS().text('russia filetype:pdf', region='wt-wt', safesearch='off', timelimit='y', max_results=5)"
   ]
  },
  {
   "cell_type": "code",
   "execution_count": 27,
   "metadata": {},
   "outputs": [
    {
     "data": {
      "text/plain": [
       "[{'title': \"For Russia's Regional Journalism, RFE/RL's Closure a 'Catastrophe'\",\n",
       "  'href': 'https://www.themoscowtimes.com/2025/03/19/for-russias-regional-journalism-rferls-closure-a-catastrophe-a88399/pdf',\n",
       "  'body': \"For Russia's Regional Journalism, RFE/RL's Closure a 'Catastrophe' Though imperfect, the outlet has been a rare source of independent news for residents of Russia's regions and ...\"},\n",
       " {'title': 'North Korea-Russia Relations: Current Developments - CRS Reports',\n",
       "  'href': 'https://crsreports.congress.gov/product/pdf/IN/IN12355',\n",
       "  'body': 'UNSC sanctions resolutions. Russia also participated in past talks meant to persuade North Korea to denuclearize. Since at least 2022, however, Russia has reversed course. During 2022 and 2023, China and Russia blocked U.S.-led efforts at the UNSC to adopt stricter sanctions on Pyongyang following DPRK ballistic missile tests.'},\n",
       " {'title': \"The Government's efforts to achieve SDG2: Zero Hunger\",\n",
       "  'href': 'https://committees.parliament.uk/publications/47092/documents/243805/default',\n",
       "  'body': 'scale invasion of Ukraine by Russia in 2022. A perfect storm of inflated prices and rising interest rates further compounded the debt crisis for many countries. The report made a number of recommendations to the previous Government to support countries in this position. The Foreign Secretary, David Lammy, in his Kew lecture (September'},\n",
       " {'title': 'Speech by Marko Bošnjak - Harvard University, Cambridge, 10 March 2025',\n",
       "  'href': 'https://www.echr.coe.int/documents/d/echr/speech-20250310-bosnjak-harvard-eng',\n",
       "  'body': 'Russia became a significant new signatory in 1998. This \"golden era\" in the late nineties was marked by great optimism and the belief that each country\\'s accession was accompanied by a sincere commitment to the three core values of the Council of Europe. Post-accession violations of the Convention in new democracies were regarded as'},\n",
       " {'title': ' C:Documents and SettingsAppieMijn documentenAmnestyStrategische ...',\n",
       "  'href': 'https://www.amnesty.nl/content/uploads/2017/01/shifting_power_and_human_rights_diplomacy_germany_web.pdf?x39793',\n",
       "  'body': 'tensions with respect to Russia and transatlantic tensions over the way to deal with Russia. The southern European countries, being squeezed into German austerity policy with no option to reverse it, thus far reacted to the German power gain in an almost fatalistic way. In foreign policy - despite special relations of for example Italy with ...'}]"
      ]
     },
     "execution_count": 27,
     "metadata": {},
     "output_type": "execute_result"
    }
   ],
   "source": [
    "pdf_search"
   ]
  },
  {
   "cell_type": "markdown",
   "metadata": {},
   "source": [
    "#### Image Search"
   ]
  },
  {
   "cell_type": "code",
   "execution_count": 28,
   "metadata": {},
   "outputs": [],
   "source": [
    "image_search = DDGS().images(\n",
    "    keywords=\"butterfly\",\n",
    "    region=\"wt-wt\",\n",
    "    safesearch=\"off\",\n",
    "    size=None,\n",
    "    color=\"Monochrome\",\n",
    "    type_image=None,\n",
    "    layout=None,\n",
    "    license_image=None,\n",
    "    max_results=5,\n",
    ")"
   ]
  },
  {
   "cell_type": "code",
   "execution_count": 29,
   "metadata": {},
   "outputs": [
    {
     "data": {
      "text/plain": [
       "[{'title': 'Idea mariposa hi-res stock photography and images - Alamy',\n",
       "  'image': 'https://c8.alamy.com/comp/KJ69RA/butterfly-idea-leuconoe-in-taiwan-KJ69RA.jpg',\n",
       "  'thumbnail': 'https://tse2.mm.bing.net/th?id=OIP.Mc7Kmp7vKkhWUWhRIbD-WAHaFc&pid=Api',\n",
       "  'url': 'https://www.alamy.com/stock-photo/idea-mariposa.html',\n",
       "  'height': 956,\n",
       "  'width': 1300,\n",
       "  'source': 'Bing'},\n",
       " {'title': 'Monarch Butterfly Flying Sketch',\n",
       "  'image': 'https://cdn4.vectorstock.com/i/1000x1000/05/78/monarch-butterfly-flying-silhouette-high-quality-vector-42890578.jpg',\n",
       "  'thumbnail': 'https://tse2.mm.bing.net/th?id=OIP.Z3UOWqSINbHEOTXM4HiKZQHaH_&pid=Api',\n",
       "  'url': 'https://proper-cooking.info/monarch-butterfly-flying-sketch',\n",
       "  'height': 1080,\n",
       "  'width': 1000,\n",
       "  'source': 'Bing'},\n",
       " {'title': 'Monarch Butterfly 2 Free Stock Photo - Public Domain Pictures',\n",
       "  'image': 'https://www.publicdomainpictures.net/pictures/120000/velka/monarch-butterfly-2-1433183647wMO.jpg',\n",
       "  'thumbnail': 'https://tse1.mm.bing.net/th?id=OIP.ZfJvHRUMLORsQ7vAOQPN8QHaGj&pid=Api',\n",
       "  'url': 'https://www.publicdomainpictures.net/en/view-image.php?image=118575&picture=monarch-butterfly-2',\n",
       "  'height': 1698,\n",
       "  'width': 1920,\n",
       "  'source': 'Bing'},\n",
       " {'title': 'Mono patterns hi-res stock photography and images - Alamy',\n",
       "  'image': 'https://c8.alamy.com/comp/S086Y2/butterfly-S086Y2.jpg',\n",
       "  'thumbnail': 'https://tse4.mm.bing.net/th?id=OIP.Qh2KTUgpmJ7f7WADQdWuQgHaJ8&pid=Api',\n",
       "  'url': 'https://www.alamy.com/stock-photo/mono-patterns.html',\n",
       "  'height': 1390,\n",
       "  'width': 1035,\n",
       "  'source': 'Bing'},\n",
       " {'title': 'Black Wallpaper: Butterfly',\n",
       "  'image': 'https://2.bp.blogspot.com/-BfFL4MNGwPY/TnxJeTuJiAI/AAAAAAAADig/2VKVfoCMWHg/s1600/butterfly+wallpaper+black.jpg',\n",
       "  'thumbnail': 'https://tse3.mm.bing.net/th?id=OIP.4EOmK8p1iqAUfPDra3mZ8gHaFj&pid=Api',\n",
       "  'url': 'https://naturesource.blogspot.com/2011/09/black-wallpaper-butterfly.html',\n",
       "  'height': 768,\n",
       "  'width': 1024,\n",
       "  'source': 'Bing'}]"
      ]
     },
     "execution_count": 29,
     "metadata": {},
     "output_type": "execute_result"
    }
   ],
   "source": [
    "image_search"
   ]
  },
  {
   "cell_type": "markdown",
   "metadata": {},
   "source": [
    "#### News Search"
   ]
  },
  {
   "cell_type": "code",
   "execution_count": null,
   "metadata": {},
   "outputs": [],
   "source": [
    "news_search = DDGS().news(keywords=\"sun\", region=\"wt-wt\", safesearch=\"off\", timelimit=\"m\", max_results=5)"
   ]
  },
  {
   "cell_type": "code",
   "execution_count": 31,
   "metadata": {},
   "outputs": [
    {
     "data": {
      "text/plain": [
       "[{'date': '2025-03-18T21:00:00+00:00',\n",
       "  'title': 'Watch the sun set over the moon in epic video from private Blue Ghost lunar lander',\n",
       "  'body': \"Firefly Aerospace's Blue Ghost moon lander captured amazing views of the lunar sunset shortly before shutting down on Sunday (March 16).\",\n",
       "  'url': 'https://www.msn.com/en-us/news/technology/watch-the-sun-set-over-the-moon-in-epic-video-from-private-blue-ghost-lunar-lander/ar-AA1BbP57',\n",
       "  'image': 'https://img-s-msn-com.akamaized.net/tenant/amp/entityid/AA1BbWnP.img?w=1920&h=1080&m=4&q=79',\n",
       "  'source': 'Space.com'},\n",
       " {'date': '2025-03-18T21:38:00+00:00',\n",
       "  'title': 'Confusion due to sun glare may have contributed to Chicago Midway close call, NTSB report says',\n",
       "  'body': 'The NTSB released a preliminary report on the close call at Chicago Midway, where a Flexjet plane crossed the same runway where a Southwest flight was coming in to land.',\n",
       "  'url': 'https://abcnews.go.com/Politics/ntsb-releases-preliminary-report-chicago-midway-close-call/story?id=119923956',\n",
       "  'image': 'https://i.abcnewsfe.com/a/41302034-100a-40c4-9700-90b60a7ed936/chicago-ht-er-250225_1740509981625_hpMain_16x9.jpg?w=1600',\n",
       "  'source': 'ABC News'},\n",
       " {'date': '2025-03-18T21:20:48+00:00',\n",
       "  'title': 'Southwest Airlines close call at Chicago Midway Airport caused in part by sun blindness, NTSB says',\n",
       "  'body': 'The close call between a Southwest Airlines plan and a private business jet at Chicago Midway Airport was at least partially caused by sun blindness, the NTSB said in a new report.',\n",
       "  'url': 'https://www.msn.com/en-us/news/us/southwest-airlines-close-call-at-chicago-midway-airport-caused-in-part-by-sun-blindness-ntsb-says/ar-AA1BbceF',\n",
       "  'image': 'https://assets2.cbsnewsstatic.com/hub/i/r/2025/02/25/04af1b93-16a5-48e3-b15b-48e60fec6698/thumbnail/1200x630/33b4b512763768ab07b087a747361eb4/cbsn-fusion-why-a-southwest-airlines-plane-aborted-landing-on-chicago-airport-runway-thumbnail.jpg?v=765ef194a4bf4701e45ec9d5712af42f',\n",
       "  'source': 'CBS News'},\n",
       " {'date': '2025-03-17T14:02:00+00:00',\n",
       "  'title': \"Our best binoculars for viewing the sun safely have a dazzling 58% off - grab a pair now in time for March's partial solar eclipse\",\n",
       "  'body': 'Get the Celestron EclipSmart 10x25 Solar Binoculars for their best price in over a year — a fantastic pair of binoculars for safe observation of the sun.',\n",
       "  'url': 'https://www.space.com/stargazing/astronomy-kit/our-best-binoculars-for-viewing-the-sun-safely-have-a-dazzling-58-percent-off-grab-a-pair-now-in-time-for-marchs-partial-solar-eclipse',\n",
       "  'image': 'https://cdn.mos.cms.futurecdn.net/XVgHY4s4q8kCLbLESFxv64-1200-80.jpg',\n",
       "  'source': 'Space.com'},\n",
       " {'date': '2025-03-17T15:24:24+00:00',\n",
       "  'title': 'Entire planetary system of four tiny exoplanets found orbiting the nearest single star to the sun',\n",
       "  'body': \"Astronomers have discovered four planets that are just a fraction of the mass of Earth orbiting Barnard's Star, which is 6 light-years from Earth.\",\n",
       "  'url': 'https://www.msn.com/en-us/news/technology/entire-planetary-system-of-four-tiny-exoplanets-found-orbiting-the-nearest-single-star-to-the-sun/ar-AA1B5P1k',\n",
       "  'image': 'https://media.cnn.com/api/v1/images/stellar/prod/noirlab2510a-1.jpg?c=16x9&q=w_800,c_fill',\n",
       "  'source': 'CNN International'}]"
      ]
     },
     "execution_count": 31,
     "metadata": {},
     "output_type": "execute_result"
    }
   ],
   "source": [
    "news_search"
   ]
  }
 ],
 "metadata": {
  "kernelspec": {
   "display_name": "langchain",
   "language": "python",
   "name": "python3"
  },
  "language_info": {
   "codemirror_mode": {
    "name": "ipython",
    "version": 3
   },
   "file_extension": ".py",
   "mimetype": "text/x-python",
   "name": "python",
   "nbconvert_exporter": "python",
   "pygments_lexer": "ipython3",
   "version": "3.11.11"
  }
 },
 "nbformat": 4,
 "nbformat_minor": 2
}
