{
 "cells": [
  {
   "cell_type": "markdown",
   "metadata": {},
   "source": [
    "https://github.com/martin-majlis/Wikipedia-API/"
   ]
  },
  {
   "cell_type": "markdown",
   "metadata": {},
   "source": [
    "### 단일 페이지를 얻는 방법"
   ]
  },
  {
   "cell_type": "code",
   "execution_count": null,
   "metadata": {},
   "outputs": [],
   "source": [
    "import wikipediaapi\n",
    "\n",
    "wiki_wiki = wikipediaapi.Wikipedia(user_agent='MyProjectName (merlin@example.com)', language='en')\n",
    "\n",
    "page_py = wiki_wiki.page('Python_(programming_language)')"
   ]
  },
  {
   "cell_type": "markdown",
   "metadata": {},
   "source": [
    "### 위키 페이지가 존재하는지 확인하는 방법"
   ]
  },
  {
   "cell_type": "code",
   "execution_count": null,
   "metadata": {},
   "outputs": [],
   "source": [
    "wiki_wikipage_py = wiki_wiki.page('Python_(programming_language)')\n",
    "print(\"Page - Exists: %s\" % page_py.exists())\n",
    "# Page - Exists: True\n",
    "\n",
    "page_missing = wiki_wiki.page('NonExistingPageWithStrangeName')\n",
    "print(\"Page - Exists: %s\" %     page_missing.exists())\n",
    "# Page - Exists: False"
   ]
  },
  {
   "cell_type": "markdown",
   "metadata": {},
   "source": [
    "### 페이지 요약을 얻는 방법"
   ]
  },
  {
   "cell_type": "code",
   "execution_count": null,
   "metadata": {},
   "outputs": [],
   "source": [
    "wiki_wiki = wikipediaapi.Wikipedia('MyProjectName (merlin@example.com)', 'en')\n",
    "\n",
    "print(\"Page - Title: %s\" % page_py.title)\n",
    "# Page - Title: Python (programming language)\n",
    "\n",
    "print(\"Page - Summary: %s\" % page_py.summary[0:60])\n",
    "# Page - Summary: Python is a high-level, general-purpose programming language"
   ]
  },
  {
   "cell_type": "markdown",
   "metadata": {},
   "source": [
    "### 페이지 URL을 얻는 방법"
   ]
  },
  {
   "cell_type": "code",
   "execution_count": null,
   "metadata": {},
   "outputs": [],
   "source": [
    "print(page_py.fullurl)\n",
    "# https://en.wikipedia.org/wiki/Python_(programming_language)\n",
    "\n",
    "print(page_py.canonicalurl)\n",
    "# https://en.wikipedia.org/wiki/Python_(programming_language)"
   ]
  },
  {
   "cell_type": "markdown",
   "metadata": {},
   "source": [
    "### 전체 텍스트를 얻는 방법"
   ]
  },
  {
   "cell_type": "code",
   "execution_count": null,
   "metadata": {},
   "outputs": [],
   "source": [
    "wiki_wiki = wikipediaapi.Wikipedia(\n",
    "    user_agent='MyProjectName (merlin@example.com)',\n",
    "    language='en',\n",
    "    extract_format=wikipediaapi.ExtractFormat.WIKI\n",
    ")\n",
    "\n",
    "p_wiki = wiki_wiki.page(\"Python\")\n",
    "print(p_wiki.text)\n",
    "# Python may refer to:\n",
    "\n",
    "# Snakes\n",
    "# Pythonidae, a family of nonvenomous snakes found in Africa, Asia, and Australia\n",
    "# Python (genus), a genus of Pythonidae found in Africa and Asia\n",
    "# Python (mythology), a mythical serpent\n",
    "\n",
    "# Computing\n",
    "# Python (programming language), a widely used high-level programming language\n",
    "# Python, a native code compiler for CMU Common Lisp\n",
    "# Python, the internal project name for the PERQ 3 computer workstation\n"
   ]
  },
  {
   "cell_type": "code",
   "execution_count": null,
   "metadata": {},
   "outputs": [],
   "source": [
    "wiki_html = wikipediaapi.Wikipedia(\n",
    "    user_agent='MyProjectName (merlin@example.com)',\n",
    "    language='en',\n",
    "    extract_format=wikipediaapi.ExtractFormat.HTML\n",
    ")\n",
    "p_html = wiki_html.page(\"Python\")\n",
    "print(p_html.text)\n",
    "# <p><b>Python</b> may refer to:\n",
    "# </p>\n",
    "\n",
    "# <h2>Snakes</h2>\n",
    "# <ul><li>Pythonidae, a family of nonvenomous snakes found in Africa, Asia, and Australia\n",
    "# <ul><li><i>Python</i> (genus), a genus of Pythonidae found in Africa and Asia</li></ul></li>\n",
    "# <li>Python (mythology), a mythical serpent</li></ul>"
   ]
  },
  {
   "cell_type": "markdown",
   "metadata": {},
   "source": [
    "### 페이지 섹션을 얻는 방법"
   ]
  },
  {
   "cell_type": "code",
   "execution_count": null,
   "metadata": {},
   "outputs": [],
   "source": [
    "def print_sections(sections, level=0):\n",
    "    for s in sections:\n",
    "        print(\"%s: %s - %s\" % (\"*\" * (level + 1), s.title, s.text[0:40]))\n",
    "        print_sections(s.sections, level + 1)\n",
    "\n",
    "\n",
    "print_sections(page_py.sections)\n",
    "# *: History - Python was conceived in the late 1980s b\n",
    "# *: Design philosophy and features - Python is a multi-paradigm programming l\n",
    "# *: Syntax and semantics - Python is meant to be an easily readable\n",
    "# **: Indentation - Python uses whitespace indentation, rath\n",
    "# **: Statements and control flow - Python's statements include:"
   ]
  },
  {
   "cell_type": "markdown",
   "metadata": {},
   "source": [
    "### 제목으로 페이지 섹션을 얻는 방법"
   ]
  },
  {
   "cell_type": "code",
   "execution_count": null,
   "metadata": {},
   "outputs": [],
   "source": [
    "section_history = page_py.section_by_title('History')\n",
    "print(\"%s - %s\" % (section_history.title, section_history.text[0:50]))\n",
    "# History - Python was conceived in the late 1980s by Guido va"
   ]
  },
  {
   "cell_type": "markdown",
   "metadata": {},
   "source": [
    "### 제목별로 모든 페이지 섹션을 가져오는 방법"
   ]
  },
  {
   "cell_type": "code",
   "execution_count": null,
   "metadata": {},
   "outputs": [],
   "source": [
    "page_1920 = wiki_wiki.page('1920')\n",
    "sections_january = page_1920.sections_by_title('January')\n",
    "for s in sections_january:\n",
    "    print(\"* %s - %s\" % (s.title, s.text[0:50]))\n",
    "# * January - January 1\n",
    "# Polish–Soviet War: The Russian Red Army \n",
    "# * January - January 2\n",
    "# Isaac Asimov, American author (d. 1992)\n",
    "\n",
    "# * January - January 1 – Zygmunt Gorazdowski, Polish Roman Cath"
   ]
  },
  {
   "cell_type": "markdown",
   "metadata": {},
   "source": [
    "### 다른 언어로 페이지를 얻는 방법"
   ]
  },
  {
   "cell_type": "code",
   "execution_count": null,
   "metadata": {},
   "outputs": [],
   "source": [
    "def print_langlinks(page):\n",
    "    langlinks = page.langlinks\n",
    "    for k in sorted(langlinks.keys()):\n",
    "        v = langlinks[k]\n",
    "        print(\"%s: %s - %s: %s\" % (k, v.language, v.title, v.fullurl))\n",
    "        \n",
    "print_langlinks(page_py)\n",
    "# af: af - Python (programmeertaal): https://af.wikipedia.org/wiki/Python_(programmeertaal)\n",
    "# als: als - Python (Programmiersprache): https://als.wikipedia.org/wiki/Python_(Programmiersprache)\n",
    "# an: an - Python: https://an.wikipedia.org/wiki/Python\n",
    "# ar: ar - بايثون (لغة برمجة): https://ar.wikipedia.org/wiki/%D8%A8%D8%A7%D9%8A%D8%AB%D9%88%D9%86_(%D9%84%D8%BA%D8%A9_%D8%A8%D8%B1%D9%85%D8%AC%D8%A9)\n",
    "# as: as - পাইথন: https://as.wikipedia.org/wiki/%E0%A6%AA%E0%A6%BE%E0%A6%87%E0%A6%A5%E0%A6%A8\n",
    "# ko: ko - 파이썬: https://ko.wikipedia.org/wiki/%ED%8C%8C%EC%9D%B4%EC%8D%AC"
   ]
  },
  {
   "cell_type": "markdown",
   "metadata": {},
   "source": [
    "### 다른 페이지로 링크를 가져오는 방법"
   ]
  },
  {
   "cell_type": "code",
   "execution_count": null,
   "metadata": {},
   "outputs": [],
   "source": [
    "page_py_cs = page_py.langlinks['cs']\n",
    "print(\"Page - Summary: %s\" % page_py_cs.summary[0:60])\n",
    "# Page - Summary: Python (anglická výslovnost [ˈpaiθən]) je vysokoúrovňový, in"
   ]
  },
  {
   "cell_type": "markdown",
   "metadata": {},
   "source": [
    "### 페이지 카테고리를 얻는 방법"
   ]
  },
  {
   "cell_type": "code",
   "execution_count": null,
   "metadata": {},
   "outputs": [],
   "source": [
    "def print_categories(page):\n",
    "    categories = page.categories\n",
    "    for title in sorted(categories.keys()):\n",
    "        print(\"%s: %s\" % (title, categories[title]))\n",
    "\n",
    "print_categories(page_py)\n",
    "# Category:All Wikipedia articles written in American English: Category:All Wikipedia articles written in American English (lang: en, variant: None, id: ??, ns: 14)\n",
    "# Category:All articles containing potentially dated statements: Category:All articles containing potentially dated statements (lang: en, variant: None, id: ??, ns: 14)\n",
    "# Category:Articles containing potentially dated statements from 2008: Category:Articles containing potentially dated statements from 2008 (lang: en, variant: None, id: ??, ns: 14)\n",
    "# Category:Articles containing potentially dated statements from 2020: Category:Articles containing potentially dated statements from 2020 (lang: en, variant: None, id: ??, ns: 14)\n",
    "# Category:Articles containing potentially dated statements from December 2022: Category:Articles containing potentially dated statements from December 2022 (lang: en, variant: None, id: ??, ns: 14)"
   ]
  },
  {
   "cell_type": "markdown",
   "metadata": {},
   "source": [
    "### 카테고리에서 모든 페이지를 가져오는 방법"
   ]
  },
  {
   "cell_type": "code",
   "execution_count": null,
   "metadata": {},
   "outputs": [],
   "source": [
    "def print_categorymembers(categorymembers, level=0, max_level=1):\n",
    "    for c in categorymembers.values():\n",
    "        print(\"%s: %s (ns: %d)\" % (\"*\" * (level + 1), c.title, c.ns))\n",
    "        if c.ns == wikipediaapi.Namespace.CATEGORY and level < max_level:\n",
    "            print_categorymembers(c.categorymembers, level=level + 1, max_level=max_level)\n",
    "\n",
    "\n",
    "cat = wiki_wiki.page(\"Category:Physics\")\n",
    "print_categorymembers(cat.categorymembers)\n",
    "# *: Physics (ns: 0)\n",
    "# *: Portal:Physics (ns: 100)\n",
    "# *: Bijel (ns: 0)\n",
    "# *: Edge states (ns: 0)\n",
    "# *: Electrostatic solitary wave (ns: 0)"
   ]
  }
 ],
 "metadata": {
  "kernelspec": {
   "display_name": "langchain",
   "language": "python",
   "name": "python3"
  },
  "language_info": {
   "codemirror_mode": {
    "name": "ipython",
    "version": 3
   },
   "file_extension": ".py",
   "mimetype": "text/x-python",
   "name": "python",
   "nbconvert_exporter": "python",
   "pygments_lexer": "ipython3",
   "version": "3.11.11"
  }
 },
 "nbformat": 4,
 "nbformat_minor": 2
}
