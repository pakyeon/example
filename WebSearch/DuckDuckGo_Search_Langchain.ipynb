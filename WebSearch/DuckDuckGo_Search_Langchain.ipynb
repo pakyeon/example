{
 "cells": [
  {
   "cell_type": "markdown",
   "metadata": {},
   "source": [
    "### Langchain DuckDuckGo Search를 사용한 검색방법"
   ]
  },
  {
   "cell_type": "code",
   "execution_count": null,
   "metadata": {},
   "outputs": [],
   "source": [
    "! pip install -qU duckduckgo-search langchain-community"
   ]
  },
  {
   "cell_type": "code",
   "execution_count": 41,
   "metadata": {},
   "outputs": [],
   "source": [
    "from langchain_community.tools import DuckDuckGoSearchRun\n",
    "\n",
    "search = DuckDuckGoSearchRun(output_format=\"list\")\n",
    "\n",
    "response = search.invoke(\"Obama's first name?\")"
   ]
  },
  {
   "cell_type": "code",
   "execution_count": 42,
   "metadata": {},
   "outputs": [
    {
     "data": {
      "text/plain": [
       "\"Obama's father, Barack Obama, Sr., was a teenage goatherd in rural Kenya, won a scholarship to study in the United States, and eventually became a senior economist in the Kenyan government.Obama's mother, S. Ann Dunham, grew up in Kansas, Texas, and Washington state before her family settled in Honolulu.In 1960 she and Barack Sr. met in a Russian language class at the University of Hawaii ... The White House, official residence of the president of the United States, in July 2008. The president of the United States is the head of state and head of government of the United States, [1] indirectly elected to a four-year term via the Electoral College. [2] Under the U.S. Constitution, the officeholder leads the executive branch of the federal government and is the commander-in-chief of ... The Irish Sun, It's a fake Barack Obama's brother posts forged document he claims is ex-president's 'Kenyan birth certificate,' March 11, 2017 Salon, Orly Taitz is at it again , Sept. 4, 2009 As the head of the government of the United States, the president is arguably the most powerful government official in the world. The president is elected to a four-year term via an electoral college system. Since the Twenty-second Amendment was adopted in 1951, the American presidency has been limited to a maximum of two terms.. Click on a president below to learn more about each presidency ... Born on August 4, 1961, in Honolulu, Hawaii, Obama is the first president born outside the continental United States. His full name is Barack Hussein Obama II, named after his father. Obama's mother, Ann Dunham, was from Kansas, while his father, Barack Obama Sr., hailed from Kenya.\""
      ]
     },
     "execution_count": 42,
     "metadata": {},
     "output_type": "execute_result"
    }
   ],
   "source": [
    "response"
   ]
  },
  {
   "cell_type": "markdown",
   "metadata": {},
   "source": [
    "#### 추가 정보(title, link)"
   ]
  },
  {
   "cell_type": "code",
   "execution_count": 38,
   "metadata": {},
   "outputs": [],
   "source": [
    "from langchain_community.tools import DuckDuckGoSearchResults\n",
    "\n",
    "search = DuckDuckGoSearchResults(output_format=\"list\")\n",
    "\n",
    "response = search.invoke(\"Obama\")"
   ]
  },
  {
   "cell_type": "code",
   "execution_count": 39,
   "metadata": {},
   "outputs": [
    {
     "data": {
      "text/plain": [
       "[{'snippet': \"Obama's father, Barack Obama, Sr., was a teenage goatherd in rural Kenya, won a scholarship to study in the United States, and eventually became a senior economist in the Kenyan government.Obama's mother, S. Ann Dunham, grew up in Kansas, Texas, and Washington state before her family settled in Honolulu.In 1960 she and Barack Sr. met in a Russian language class at the University of Hawaii ...\",\n",
       "  'title': 'Barack Obama | Biography, Parents, Education, Presidency, Books ...',\n",
       "  'link': 'https://www.britannica.com/biography/Barack-Obama'},\n",
       " {'snippet': 'The former First Lady denied any rift with Barack Obama and praised school counselors in her first public video since speculation about their relationship. Learn about their love story, family and legacy in this article.',\n",
       "  'title': 'Michelle Obama makes emotional announcement amid speculation over ...',\n",
       "  'link': 'https://www.hellomagazine.com/celebrities/812295/michele-obama-makes-emotional-announcement-amid-divorce-speculation/'},\n",
       " {'snippet': \"Former Presidents Clinton, Obama, Biden and George W. Bush have barely uttered a word about President Trump's actions a month into his second term, to the dismay of Democratic critics who say…\",\n",
       "  'title': 'Obama, Bush, Clinton, Biden staying silent on Trump dismays some Democrats',\n",
       "  'link': 'https://thehill.com/homenews/administration/5153858-former-presidents-trump-actions/'},\n",
       " {'snippet': 'Learn about the life and career of Barack Obama, the 44th president of the United States, who rose from humble beginnings to become a best-selling author, a U.S. senator, and a Nobel Peace Prize laureate. Explore his achievements, challenges, and legacy in this comprehensive article from Britannica.',\n",
       "  'title': 'Barack Obama - 44th President, Political Career, Legacy | Britannica',\n",
       "  'link': 'https://www.britannica.com/biography/Barack-Obama/Politics-and-ascent-to-the-presidency'}]"
      ]
     },
     "execution_count": 39,
     "metadata": {},
     "output_type": "execute_result"
    }
   ],
   "source": [
    "response"
   ]
  },
  {
   "cell_type": "markdown",
   "metadata": {},
   "source": [
    "#### 뉴스 기사만 검색"
   ]
  },
  {
   "cell_type": "code",
   "execution_count": 24,
   "metadata": {},
   "outputs": [],
   "source": [
    "search = DuckDuckGoSearchResults(output_format=\"list\", backend=\"news\")\n",
    "\n",
    "response = search.invoke(\"Obama\")"
   ]
  },
  {
   "cell_type": "code",
   "execution_count": 27,
   "metadata": {},
   "outputs": [
    {
     "data": {
      "text/plain": [
       "[{'snippet': 'Michelle Obama supporters are happy to see her back in the spotlight after she launched the \"IMO\" podcast with her brother, Craig Robinson. The sibling',\n",
       "  'title': \"'She Is Getting So Skinny': The Buzz Around Michelle Obama's New Look Causes Alarm Amongst Fans\",\n",
       "  'link': 'https://www.msn.com/en-us/entertainment/entertainment-celebrity/she-is-getting-so-skinny-the-buzz-around-michelle-obama-s-new-look-causes-alarm-amongst-fans/ar-AA1Bf3a3',\n",
       "  'date': '2025-03-19T14:00:00+00:00',\n",
       "  'source': 'Atlanta Black Star'},\n",
       " {'snippet': \"A federal judge dealt a major blow to the Trump administration's war on bureaucracy Tuesday, ruling that Elon Musk and the White House's Department of Government Efficiency likely violated the Constitution by unilaterally shutting down the U.\",\n",
       "  'title': 'Obama-appointed judge rules USAID shutdown likely unlawful',\n",
       "  'link': 'https://www.msn.com/en-us/politics/government/obama-appointed-judge-rules-usaid-shutdown-likely-unlawful/ar-AA1BbqMG',\n",
       "  'date': '2025-03-18T20:45:54+00:00',\n",
       "  'source': 'Washington Examiner'},\n",
       " {'snippet': \"Mr. Chuang's ruling is not the only decision impacting the Trump administration's cuts to USAID. On March 11, hours after Mr. Rubio's post, Judge Amir Ali ruled that the administration overstepped its authority by putting a freeze on funding of foreign aid that had been approved by Congress.\",\n",
       "  'title': \"Obama-Appointed Judge Blocks Trump Cuts to USAID, Saying They Violate the Constitution in 'Multiple Ways'\",\n",
       "  'link': 'https://www.nysun.com/article/obama-appointed-judge-usaid-violate-constitution-multiple-ways',\n",
       "  'date': '2025-03-18T21:20:00+00:00',\n",
       "  'source': 'The New York Sun'},\n",
       " {'snippet': 'John Sarcone, a Trump campaign lawyer, is the new interim U.S. Attorney for the Northern District of New York.',\n",
       "  'title': \"Trump's new top prosecutor in Upstate NY suggested trying Biden for treason, deporting Obama\",\n",
       "  'link': 'https://www.msn.com/en-us/news/other/trump-s-new-top-prosecutor-in-upstate-ny-suggested-trying-biden-for-treason-deporting-obama/ar-AA1Begg7',\n",
       "  'date': '2025-03-19T11:32:00+00:00',\n",
       "  'source': 'Syracuse.com'}]"
      ]
     },
     "execution_count": 27,
     "metadata": {},
     "output_type": "execute_result"
    }
   ],
   "source": [
    "response"
   ]
  },
  {
   "cell_type": "code",
   "execution_count": 44,
   "metadata": {},
   "outputs": [],
   "source": [
    "from langchain_community.utilities import DuckDuckGoSearchAPIWrapper\n",
    "\n",
    "wrapper = DuckDuckGoSearchAPIWrapper(region=\"wt-wt\", time=\"d\", max_results=5) # region Options: https://pypi.org/project/duckduckgo-search/#regions time Options: d, w, m, y\n",
    "\n",
    "search = DuckDuckGoSearchResults(api_wrapper=wrapper, source=\"news\", output_format=\"list\") # source Option: text, news, images\n",
    "\n",
    "response = search.invoke(\"Obama\")"
   ]
  },
  {
   "cell_type": "code",
   "execution_count": 45,
   "metadata": {},
   "outputs": [
    {
     "data": {
      "text/plain": [
       "[{'snippet': \"A federal judge appointed by former President Barack Obama ruled Tuesday evening to block the Trump administration's Environmental Protection Agency (EPA) from terminating $20 billion in grants doled out through a Biden-era program. While Chutkan did temporarily block EPA from moving forward with ...\",\n",
       "  'title': \"Obama-Appointed Judge Blocks Trump Admin From Terminating EPA 'Gold ...\",\n",
       "  'link': 'https://dailycaller.com/2025/03/19/obama-appointed-judge-blocks-trump-admin-from-terminating-epa-gold-bars-grants/'},\n",
       " {'snippet': '\"Obama should be the first illegal alien deported!\" he wrote, likely referring to former President Barack Obama. Tracking the impact of Trump\\'s presidency.',\n",
       "  'title': \"Trump's new top prosecutor in Upstate NY suggested trying Biden for ...\",\n",
       "  'link': 'https://www.newyorkupstate.com/news/2025/03/trumps-new-top-prosecutor-in-upstate-ny-suggested-trying-biden-for-treason-deporting-obama.html'},\n",
       " {'snippet': \"The Securities and Exchange Commission's top brass will exercise stricter control over investigations into US public companies as the Trump administration rolls back a 2009 policy that delegated subpoena power to the securities cop's enforcement chief.\",\n",
       "  'title': 'SEC Enforcement Director Loses Obama-Era Subpoena Authority',\n",
       "  'link': 'https://news.bloomberglaw.com/securities-law/sec-enforcement-director-loses-obama-era-subpoena-authority'},\n",
       " {'snippet': \"U.S. District Judge Tanya Chutkan, appointed by Democrat former President Barack Obama and long a target of Trump's ire for being a partisan activist judge in deep-blue Washington, issued a temporary restraining order halting the EPA's termination of three environmental nonprofit groups' grant agreements and barring Citibank from dispersing ...\",\n",
       "  'title': 'Obama Judge Chutkan Blocks EPA From Halting Climate Grants',\n",
       "  'link': 'https://www.newsmax.com/politics/partisan-activist-judge/2025/03/19/id/1203456/'}]"
      ]
     },
     "execution_count": 45,
     "metadata": {},
     "output_type": "execute_result"
    }
   ],
   "source": [
    "response"
   ]
  }
 ],
 "metadata": {
  "kernelspec": {
   "display_name": "langchain",
   "language": "python",
   "name": "python3"
  },
  "language_info": {
   "codemirror_mode": {
    "name": "ipython",
    "version": 3
   },
   "file_extension": ".py",
   "mimetype": "text/x-python",
   "name": "python",
   "nbconvert_exporter": "python",
   "pygments_lexer": "ipython3",
   "version": "3.11.11"
  }
 },
 "nbformat": 4,
 "nbformat_minor": 2
}
